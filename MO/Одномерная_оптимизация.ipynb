{
  "nbformat": 4,
  "nbformat_minor": 0,
  "metadata": {
    "colab": {
      "provenance": [],
      "collapsed_sections": [],
      "authorship_tag": "ABX9TyNo9gIbl89mmRok0n9iKS3I"
    },
    "kernelspec": {
      "name": "python3",
      "display_name": "Python 3"
    },
    "language_info": {
      "name": "python"
    }
  },
  "cells": [
    {
      "cell_type": "markdown",
      "source": [
        "**№17.78**"
      ],
      "metadata": {
        "id": "A-mtYZzK29Ul"
      }
    },
    {
      "cell_type": "code",
      "execution_count": 1,
      "metadata": {
        "id": "ZntXRAtN2tlU"
      },
      "outputs": [],
      "source": [
        "import matplotlib.pyplot as plt\n",
        "import numpy as np"
      ]
    },
    {
      "cell_type": "code",
      "source": [
        "def f(x):\n",
        "    return x**4 + x**2 + x + 1\n",
        "    \n",
        "def d_f(x):\n",
        "    return 4 * x**3 + 2 * x + 1\n",
        "    \n",
        "a = -1\n",
        "b = 2\n",
        "\n",
        "epsilon = 0.01"
      ],
      "metadata": {
        "id": "6u-U5Vzc2wqp"
      },
      "execution_count": 2,
      "outputs": []
    },
    {
      "cell_type": "markdown",
      "source": [
        "### Проверка выпуклости функции\n",
        "Функция f является выпуклой на отрезке [a, b] , если для любого  α ∈ [0, 1] и любых x1 , x2  ∈ [a, b] выполняется условие:<br>\n",
        "f(α * x1 + (1-α) * x2) <= α * f(x1) + (1-α) * f(x2)<br>\n",
        "x1 $\\not=$ x2"
      ],
      "metadata": {
        "id": "rDj7g9k_3ZHD"
      }
    },
    {
      "cell_type": "code",
      "source": [
        "discr = 0.5\n",
        "Alpha = np.linspace(0, 1, int(1 / discr) + 1)\n",
        "X = np.linspace(a, b, int((b - a) / discr) + 1)\n",
        "prov = True\n",
        "for i in range(len(Alpha)): \n",
        "    for j in range(len(X)):\n",
        "        for k in range(len(X)):\n",
        "            alpha = Alpha[i]\n",
        "            x1 = X[j] \n",
        "            x2 = X[k]\n",
        "            if x1 != x2 and f(alpha*x1 + (1-alpha)*x2) > alpha*f(x1) + (1-alpha)*f(x2):\n",
        "                print(alpha, x1, x2)\n",
        "                prov = False\n",
        "if prov:\n",
        "    print('Функция выпуклая, можем применить метод касательных')\n",
        "else:\n",
        "    print('Функкия не выпуклая, не можем использовать метод касательных')"
      ],
      "metadata": {
        "colab": {
          "base_uri": "https://localhost:8080/"
        },
        "id": "SLjhi0Sz3YlJ",
        "outputId": "fb9cd8fe-aab5-4c15-a2cb-5affde6521a3"
      },
      "execution_count": 3,
      "outputs": [
        {
          "output_type": "stream",
          "name": "stdout",
          "text": [
            "Функция выпуклая, можем применить метод касательных\n"
          ]
        }
      ]
    },
    {
      "cell_type": "markdown",
      "source": [
        "Если f′(a) >= 0 или f′(b) <= 0, то точка a либо точка b является точкой минимума соответственно, тогда задача решена.<br>\n",
        "Критерий точности |f′($c_n$)| <= 0.01"
      ],
      "metadata": {
        "id": "w8olOsVu6Vzk"
      }
    },
    {
      "cell_type": "code",
      "source": [
        "iteration = 0\n",
        "\n",
        "# условие |f′(b)| <= epsilon\n",
        "if d_f(b) <= epsilon:  \n",
        "    c = b\n",
        "    d_fc = d_f(c)\n",
        "else:\n",
        "    c = a\n",
        "    d_fc = d_f(a)\n",
        "\n",
        "# условие |f′(a)| <= epsilon\n",
        "    if d_fc > epsilon: \n",
        "        while abs(d_fc) > epsilon: \n",
        "            c = (f(a) - f(b) + b * d_f(b) - a * d_f(a)) / (d_f(b) - d_f(a))\n",
        "            d_fc = d_f(c)\n",
        "            #print('Итерация', iteration + 1, ' a =', round(a,3), ' b =', round(b,3), '  c =', round(c,3), ' d_f(c) =', round(d_fc,3))\n",
        "\n",
        "            if d_fc > 0:\n",
        "                b = c # [a,c]\n",
        "            else:      \n",
        "                a = c # [c,b]\n",
        "            iteration += 1\n",
        "\n",
        "print('Количество итераций =',iteration)\n",
        "print('Точка минимума c =', round(c,3))\n",
        "print(\"Производная f'(c) =\", round(d_fc,3))\n",
        "print(\"f(c) =\", round(f(c),3))"
      ],
      "metadata": {
        "colab": {
          "base_uri": "https://localhost:8080/"
        },
        "id": "YvaZs5Qn3Y2v",
        "outputId": "e859288b-cd03-47f7-ab89-e0c9fd58e12a"
      },
      "execution_count": 6,
      "outputs": [
        {
          "output_type": "stream",
          "name": "stdout",
          "text": [
            "Количество итераций = 0\n",
            "Точка минимума c = -0.386\n",
            "Производная f'(c) = -0.002\n",
            "f(c) = 0.785\n"
          ]
        }
      ]
    },
    {
      "cell_type": "markdown",
      "source": [
        "## График"
      ],
      "metadata": {
        "id": "7XKyINqZHV9o"
      }
    },
    {
      "cell_type": "code",
      "source": [
        "x = np.linspace(-1, 2, 100)\n",
        "f_x = f(x)\n",
        "def_f = d_f(x)\n",
        "plt.plot(x, f_x, label = 'Функция' )\n",
        "plt.plot(c,f(c),'o', label ='Точка минимума' ) \n",
        "plt.legend()\n",
        "plt.grid()"
      ],
      "metadata": {
        "colab": {
          "base_uri": "https://localhost:8080/",
          "height": 265
        },
        "id": "zaqboV5zgSNd",
        "outputId": "f4d70724-53af-4bbf-9b2b-0f64b79f4bfa"
      },
      "execution_count": null,
      "outputs": [
        {
          "output_type": "display_data",
          "data": {
            "text/plain": [
              "<Figure size 432x288 with 1 Axes>"
            ],
            "image/png": "[encoded data removed]"
          },
          "metadata": {
            "needs_background": "light"
          }
        }
      ]
    },
    {
      "cell_type": "code",
      "source": [
        "kasat = f(c) + d_f(c) * (x - c)\n",
        "plt.plot(x, f_x, label = 'Функция' )\n",
        "plt.plot(x, def_f, label = 'Производная')\n",
        "plt.plot(x, kasat, label = 'Касательная в точке минимума')\n",
        "plt.legend()\n",
        "plt.grid()"
      ],
      "metadata": {
        "colab": {
          "base_uri": "https://localhost:8080/",
          "height": 265
        },
        "id": "ErC74Tlw7WI4",
        "outputId": "ffc06686-e01c-4aa0-b5b6-7d57fd93df18"
      },
      "execution_count": null,
      "outputs": [
        {
          "output_type": "display_data",
          "data": {
            "text/plain": [
              "<Figure size 432x288 with 1 Axes>"
            ],
            "image/png": "[encoded data removed]"
          },
          "metadata": {
            "needs_background": "light"
          }
        }
      ]
    },
    {
      "cell_type": "markdown",
      "source": [
        "### Проверка графика по wolframalpha:\n",
        "https://www.wolframalpha.com/input?i2d=true&i=plot+f%5C%2840%29x%5C%2841%29+%3D+Power%5Bx%2C4%5D+%2B+Power%5Bx%2C2%5D+%2B+x+%2B+1%3B+f%5C%2840%29x%5C%2841%29+%3D++4+*+Power%5Bx%2C3%5D+%2B+2+*+x+%2B+1%3B+-1+≤+x+≤+2"
      ],
      "metadata": {
        "id": "bcZ_FAXPOQz4"
      }
    }
  ]
}